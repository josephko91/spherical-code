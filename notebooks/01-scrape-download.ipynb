{
 "cells": [
  {
   "cell_type": "code",
   "execution_count": 1,
   "metadata": {},
   "outputs": [],
   "source": [
    "import requests\n",
    "from bs4 import BeautifulSoup\n",
    "import os\n",
    "from urllib.parse import urljoin"
   ]
  },
  {
   "cell_type": "code",
   "execution_count": 2,
   "metadata": {},
   "outputs": [],
   "source": [
    "# URL of the webpage you want to extract links from\n",
    "page_url = \"http://neilsloane.com/packings/dim3/\"\n",
    "\n",
    "# Send a GET request to fetch the page content\n",
    "response = requests.get(page_url)"
   ]
  },
  {
   "cell_type": "code",
   "execution_count": 7,
   "metadata": {},
   "outputs": [],
   "source": [
    "soup = BeautifulSoup(response.content, \"html.parser\")\n",
    "links = soup.find_all('a', href=True)\n",
    "save_directory = '/Users/josephko/research/spherical-code/data/text-files'\n",
    "for link in links:\n",
    "    if '.txt' in link['href']:\n",
    "        filename = link['href']\n",
    "        filename = filename.strip()\n",
    "        save_path = os.path.join(save_directory, filename)\n",
    "        file_url = urljoin(page_url, filename)\n",
    "        text_response = requests.get(file_url)\n",
    "        text = text_response.text\n",
    "        with open(save_path, 'w') as file:\n",
    "            file.write(text)"
   ]
  },
  {
   "cell_type": "code",
   "execution_count": null,
   "metadata": {},
   "outputs": [],
   "source": []
  }
 ],
 "metadata": {
  "kernelspec": {
   "display_name": "webscrape",
   "language": "python",
   "name": "python3"
  },
  "language_info": {
   "codemirror_mode": {
    "name": "ipython",
    "version": 3
   },
   "file_extension": ".py",
   "mimetype": "text/x-python",
   "name": "python",
   "nbconvert_exporter": "python",
   "pygments_lexer": "ipython3",
   "version": "3.13.2"
  },
  "orig_nbformat": 4
 },
 "nbformat": 4,
 "nbformat_minor": 2
}
